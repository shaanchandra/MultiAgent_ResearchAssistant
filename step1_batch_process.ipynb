{
 "cells": [
  {
   "cell_type": "code",
   "execution_count": 1,
   "metadata": {},
   "outputs": [],
   "source": [
    "import yaml\n",
    "\n",
    "with open(\"./config.yaml\") as cfg:\n",
    "    config = yaml.load(cfg, Loader=yaml.FullLoader)"
   ]
  },
  {
   "cell_type": "markdown",
   "metadata": {},
   "source": [
    "## Step 1: Create SQL-DB of CSV/XLS files for querying later"
   ]
  },
  {
   "cell_type": "code",
   "execution_count": 3,
   "metadata": {},
   "outputs": [
    {
     "name": "stdout",
     "output_type": "stream",
     "text": [
      "--------------------------------------------------\n",
      "Creating SQL-DB from CSV/XLSX files\n",
      "--------------------------------------------------\n",
      ">> Accessing this dir for CSV/XLS files: ./data/csv_xls\n",
      ">> Number of csv files found: 2\n",
      "./data/csv_xls/pred_maint.csv (10000, 14)\n",
      "./data/csv_xls/patient_survival.csv (91713, 85)\n",
      "\n",
      ">> All csv files are saved into the sql database:  sqlite:///./data/sqldb/csv_xlsx_sqldb.db\n",
      "--------------------------------------------------\n",
      "Validating SQL-DB created from CSV/XLSX files\n",
      "--------------------------------------------------\n",
      ">> Available table names in created SQL DB:\n",
      " ['patient_survival', 'pred_maint']\n"
     ]
    }
   ],
   "source": [
    "from utils.prep_sqldb_from_csv_xls import PrepareSQLFromTabularData\n",
    "\n",
    "csv_sql_obj = PrepareSQLFromTabularData(files_dir=config['csvfiles_dir'], db_dir=config['sqldb_dir'])\n",
    "csv_sql_obj.run_pipeline()"
   ]
  },
  {
   "cell_type": "markdown",
   "metadata": {},
   "source": [
    "## Step 2: Create VectorDB of PDFs"
   ]
  },
  {
   "cell_type": "code",
   "execution_count": 4,
   "metadata": {},
   "outputs": [
    {
     "name": "stderr",
     "output_type": "stream",
     "text": [
      "/opt/anaconda3/envs/agentic/lib/python3.12/site-packages/tqdm/auto.py:21: TqdmWarning: IProgress not found. Please update jupyter and ipywidgets. See https://ipywidgets.readthedocs.io/en/stable/user_install.html\n",
      "  from .autonotebook import tqdm as notebook_tqdm\n"
     ]
    },
    {
     "name": "stdout",
     "output_type": "stream",
     "text": [
      "--------------------------------------------------\n",
      "Creating VectorDB from PDF files\n",
      "--------------------------------------------------\n",
      ">> Number of PDF files found: 6\n",
      "\n",
      ">> Extracting text from PDF files and generating embeddings...\n"
     ]
    },
    {
     "name": "stderr",
     "output_type": "stream",
     "text": [
      "Processing Chunks for ClinicalGAN Patient Monitoring.pdf: 100%|██████████| 211/211 [00:00<00:00, 295590.56it/s]\n",
      "Processing Chunks for TimeGAN.pdf: 100%|██████████| 104/104 [00:00<00:00, 504869.93it/s]\n",
      "Processing Chunks for DiffTS.pdf: 100%|██████████| 225/225 [00:00<00:00, 173222.91it/s]\n",
      "Processing Chunks for self-guiding-diffusion-models-for-probabilistic-time-series-forecasting.pdf: 100%|██████████| 204/204 [00:00<00:00, 499788.56it/s]\n",
      "Processing Chunks for xLSTM.pdf: 100%|██████████| 423/423 [00:00<00:00, 653958.94it/s]\n",
      "Processing Chunks for COSYNE.pdf: 100%|██████████| 123/123 [00:00<00:00, 478570.86it/s]\n"
     ]
    },
    {
     "name": "stdout",
     "output_type": "stream",
     "text": [
      ">> Injecting data into ChromaDB...\n",
      "\n",
      ">> Data is successfuly stored in ChromaDB. Took  24.85 seconds.\n",
      "\n",
      "\n",
      ">> Validating ChromaDB...\n",
      ">> Number of vectors in vectordb: 1290\n"
     ]
    }
   ],
   "source": [
    "from utils.prep_vectordb_from_pdfs import PrepareVectorDBFromPDFs\n",
    "\n",
    "pdf_vector_obj = PrepareVectorDBFromPDFs(file_directory=config['pdffiles_dir'], db_dir=config['vectordb_dir'], HF_API_KEY=config['HF_API_KEY'], collection_name='research_papers')\n",
    "pdf_vector_obj.run_pipeline()"
   ]
  },
  {
   "cell_type": "code",
   "execution_count": null,
   "metadata": {},
   "outputs": [],
   "source": []
  },
  {
   "cell_type": "code",
   "execution_count": null,
   "metadata": {},
   "outputs": [],
   "source": []
  },
  {
   "cell_type": "code",
   "execution_count": null,
   "metadata": {},
   "outputs": [],
   "source": []
  }
 ],
 "metadata": {
  "kernelspec": {
   "display_name": "agentic",
   "language": "python",
   "name": "python3"
  },
  "language_info": {
   "codemirror_mode": {
    "name": "ipython",
    "version": 3
   },
   "file_extension": ".py",
   "mimetype": "text/x-python",
   "name": "python",
   "nbconvert_exporter": "python",
   "pygments_lexer": "ipython3",
   "version": "3.12.2"
  }
 },
 "nbformat": 4,
 "nbformat_minor": 2
}
